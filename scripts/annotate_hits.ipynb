{
 "metadata": {
  "name": "annotate_hits"
 },
 "nbformat": 3,
 "nbformat_minor": 0,
 "worksheets": [
  {
   "cells": [
    {
     "cell_type": "code",
     "collapsed": false,
     "input": [
      "from Bio import SeqIO\n",
      "from Bio.Seq import Seq\n",
      "from Bio.Alphabet import IUPAC, Gapped\n",
      "import csv"
     ],
     "language": "python",
     "metadata": {},
     "outputs": [],
     "prompt_number": 63
    },
    {
     "cell_type": "code",
     "collapsed": false,
     "input": [
      "segments = ['HA','MP','NA','NP','NS','PA','PB1','PB2']\n",
      "\n",
      "preds = {segment : [] for segment in segments}\n",
      "prediction_file = '/Users/kje/Dropbox/flu_marker/adt_predictions/adt.top10.predictions.csv'\n",
      "\n",
      "# parse prediction file\n",
      "f = open(prediction_file, 'r')\n",
      "f.readline()\n",
      "pred_list = [fi.strip() for fi in f]\n",
      "for pred in pred_list:\n",
      "    pred = pred.split(',')\n",
      "    preds[pred[1]].extend([int(pred[2])])\n",
      "\n",
      "\n",
      "# annotated file\n",
      "f = open('/Users/kje/Dropbox/flu_marker/adt_predictions/adt.top10.annotated.tsv', 'w')\n",
      "# open and parse H7N9 alignments\n",
      "for segment in segments:\n",
      "    if segment=='HA' or segment=='NA':\n",
      "        continue\n",
      "    h_file = '/Users/kje/Dropbox/flu_marker/adt_predictions/aln/gisaid.H7N9_042213.' + segment + '.' + 'avian_ancestor' + '.aa.fa'\n",
      "    a_file = '/Users/kje/Dropbox/flu_marker/adt_predictions/aln/gisaid.H7N9_042213.' + segment + '.' + 'human' + '.aa.fa'\n",
      "    h_sequences = list(SeqIO.parse(h_file, format='fasta'))\n",
      "    a_sequences = list(SeqIO.parse(a_file, format='fasta'))\n",
      "    for pred in preds[segment]:\n",
      "        f.write('\\t'.join([segment, str(pred), ','.join(set([seq[int(pred)-1] for seq in h_sequences])), ','.join(set([seq[int(pred)-1] for seq in a_sequences])), '\\n']))\n",
      "\n",
      "f.close()\n"
     ],
     "language": "python",
     "metadata": {},
     "outputs": [],
     "prompt_number": 120
    },
    {
     "cell_type": "code",
     "collapsed": false,
     "input": [
      "'('+','.join(set(['A','B','C']))+')'"
     ],
     "language": "python",
     "metadata": {},
     "outputs": [
      {
       "output_type": "pyout",
       "prompt_number": 113,
       "text": [
        "'(A,C,B)'"
       ]
      }
     ],
     "prompt_number": 113
    },
    {
     "cell_type": "code",
     "collapsed": false,
     "input": [],
     "language": "python",
     "metadata": {},
     "outputs": []
    }
   ],
   "metadata": {}
  }
 ]
}