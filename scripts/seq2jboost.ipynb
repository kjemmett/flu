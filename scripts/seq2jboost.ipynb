{
 "metadata": {
  "name": "seq2jboost"
 },
 "nbformat": 3,
 "nbformat_minor": 0,
 "worksheets": [
  {
   "cells": [
    {
     "cell_type": "code",
     "collapsed": false,
     "input": [
      "from Bio import SeqIO\n",
      "import csv"
     ],
     "language": "python",
     "metadata": {},
     "outputs": [],
     "prompt_number": 7
    },
    {
     "cell_type": "code",
     "collapsed": false,
     "input": [
      "seq_list = list(SeqIO.parse(open('/Volumes/titan/proj/flu/data/ncbi.allsubtypes.NA.aa.sequences.aligned.fasta', 'r'), 'fasta'))\n",
      "reader = csv.reader(open('/Volumes/titan/proj/flu/data/ncbi.allsubtypes.NA.aa.labels.csv', 'r'))\n",
      "seq_labels = dict((rows[0],rows[1]) for rows in reader)\n",
      "f = open('/Volumes/titan/proj/flu/data/jboost/na.full', 'w')\n",
      "host = {'1':'mammal', '2':'avian'}\n",
      "i=1\n",
      "for seq in seq_list:\n",
      "    \n",
      "    # numerical index\n",
      "    f.write(str(i) + ',')\n",
      "    # sequence as comma delimited features\n",
      "    f.write(','.join([aa for aa in seq.seq]))\n",
      "    # label\n",
      "    \n",
      "    f.write(',' + host[seq_labels[seq.id]] + ';\\n')\n",
      "    i = i+1\n",
      "    \n",
      "f.close() \n",
      "\n",
      "# write spec file\n",
      "specfile = open('/Volumes/titan/proj/flu/data/jboost/na.spec', 'w')\n",
      "specfile.write('exampleTerminator=;\\n')\n",
      "specfile.write('attributeTerminator=,\\n')\n",
      "specfile.write('maxBadExa=0\\n')\n",
      "specfile.write('INDEX\\tnumber\\n')\n",
      "specfile.write('\\n'.join(['pos%03d\\t(A,B,C,D,E,F,G,H,I,J,K,L,M,N,O,P,Q,R,S,T,U,V,W,X,Y,Z,-)' % i for i in range(1, len(seq_list[0])+1)]))\n",
      "specfile.write('\\nlabels\\t(mammal, avian)\\n')\n",
      "specfile.close()"
     ],
     "language": "python",
     "metadata": {},
     "outputs": [],
     "prompt_number": 10
    },
    {
     "cell_type": "code",
     "collapsed": false,
     "input": [
      "2"
     ],
     "language": "python",
     "metadata": {},
     "outputs": [
      {
       "output_type": "pyout",
       "prompt_number": 5,
       "text": [
        "2"
       ]
      }
     ],
     "prompt_number": 5
    },
    {
     "cell_type": "code",
     "collapsed": false,
     "input": [],
     "language": "python",
     "metadata": {},
     "outputs": []
    }
   ],
   "metadata": {}
  }
 ]
}